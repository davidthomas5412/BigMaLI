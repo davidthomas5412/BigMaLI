{
 "cells": [
  {
   "cell_type": "markdown",
   "metadata": {},
   "source": [
    "# Biased Log Likelihood\n",
    "*David Thomas 2017/03/10*"
   ]
  },
  {
   "cell_type": "markdown",
   "metadata": {},
   "source": [
    "We start by importing the bigmali modules we will be using throughout this notebook."
   ]
  },
  {
   "cell_type": "code",
   "execution_count": 2,
   "metadata": {
    "collapsed": false
   },
   "outputs": [],
   "source": [
    "%load_ext autoreload\n",
    "%autoreload 2\n",
    "\n",
    "from bigmali.grid import Grid\n",
    "from bigmali.likelihood import BiasedLikelihood\n",
    "from bigmali.prior import TinkerPrior"
   ]
  },
  {
   "cell_type": "markdown",
   "metadata": {},
   "source": [
    "#### Setup BaseLikelihood\n",
    "Next we:\n",
    "- load our mock catalog with pd.read_csv\n",
    "- initialize a redshift grid\n",
    "- initialize the Tinker mass prior\n",
    "- initialize the BaseLikelihood class with the grid, prior, and two data arrays: observed luminosities and redshifts"
   ]
  },
  {
   "cell_type": "code",
   "execution_count": 7,
   "metadata": {
    "collapsed": false
   },
   "outputs": [],
   "source": [
    "import pandas as pd\n",
    "\n",
    "data = pd.read_csv('/Users/user/Code/PanglossNotebooks/MassLuminosityProject/mock_data.csv')\n",
    "grid = Grid()\n",
    "prior = TinkerPrior(grid)\n",
    "lum_obs = data.lum_obs[:10 ** 3]\n",
    "z = data.z[:10 ** 3]\n",
    "bl = BiasedLikelihood(grid, prior, lum_obs, z)"
   ]
  },
  {
   "cell_type": "markdown",
   "metadata": {},
   "source": [
    "Then we generate hyperparameters and evaluate the biased log-likelihood."
   ]
  },
  {
   "cell_type": "code",
   "execution_count": 8,
   "metadata": {
    "collapsed": false
   },
   "outputs": [
    {
     "name": "stdout",
     "output_type": "stream",
     "text": [
      "CPU times: user 272 ms, sys: 2.07 ms, total: 274 ms\n",
      "Wall time: 275 ms\n"
     ]
    },
    {
     "data": {
      "text/plain": [
       "-10970.171292309142"
      ]
     },
     "execution_count": 8,
     "metadata": {},
     "output_type": "execute_result"
    }
   ],
   "source": [
    "from scipy.stats import norm\n",
    "import numpy as np\n",
    "\n",
    "np.random.seed(0)\n",
    "alpha1 = norm(10.709, 0.022).rvs()\n",
    "alpha2 = norm(0.359, 0.009).rvs()\n",
    "alpha4 = norm(1.10, 0.06).rvs()\n",
    "alpha3 = 2.35e14\n",
    "S = S = norm(0.155, 0.0009).rvs()\n",
    "\n",
    "%time bl.evaluate(alpha1, alpha2, alpha3, alpha4, S)"
   ]
  }
 ],
 "metadata": {
  "kernelspec": {
   "display_name": "Python 2",
   "language": "python",
   "name": "python2"
  },
  "language_info": {
   "codemirror_mode": {
    "name": "ipython",
    "version": 2
   },
   "file_extension": ".py",
   "mimetype": "text/x-python",
   "name": "python",
   "nbconvert_exporter": "python",
   "pygments_lexer": "ipython2",
   "version": "2.7.13"
  }
 },
 "nbformat": 4,
 "nbformat_minor": 1
}
